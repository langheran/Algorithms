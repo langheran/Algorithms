{
 "cells": [
  {
   "cell_type": "markdown",
   "metadata": {},
   "source": [
    "# Hello Jupyter"
   ]
  },
  {
   "cell_type": "code",
   "execution_count": 1,
   "metadata": {},
   "outputs": [
    {
     "name": "stderr",
     "output_type": "stream",
     "text": [
      "input_line_8:5:14: error: expected unqualified-id\n",
      "cout << std::min(a, b) << \"\\n\";\n",
      "             ^\n",
      "C:\\Program Files (x86)\\Windows Kits\\10\\include\\10.0.15063.0\\shared\\minwindef.h:197:29: note: expanded from macro 'min'\n",
      "#define min(a,b)            (((a) < (b)) ? (a) : (b))\n",
      "                            ^\n",
      "input_line_8:8:14: error: expected unqualified-id\n",
      "cout << std::min(7, 7);\n",
      "             ^\n",
      "C:\\Program Files (x86)\\Windows Kits\\10\\include\\10.0.15063.0\\shared\\minwindef.h:197:29: note: expanded from macro 'min'\n",
      "#define min(a,b)            (((a) < (b)) ? (a) : (b))\n",
      "                            ^\n"
     ]
    },
    {
     "ename": "Interpreter Error",
     "evalue": "",
     "output_type": "error",
     "traceback": [
      "Interpreter Error: "
     ]
    }
   ],
   "source": [
    "#include <iostream>\n",
    "#include <algorithm>\n",
    "using namespace std;\n",
    "int a = 5;\n",
    "int b = 7;\n",
    "cout << std::min(a, b) << \"\\n\";\n",
    "\n",
    "// Returns the first one if both the numbers\n",
    "// are same\n",
    "cout << std::min(7, 7);"
   ]
  }
 ],
 "metadata": {
  "kernelspec": {
   "display_name": "C++14",
   "language": "C++14",
   "name": "xeus-cling-cpp14"
  },
  "language_info": {
   "codemirror_mode": "text/x-c++src",
   "file_extension": ".cpp",
   "mimetype": "text/x-c++src",
   "name": "c++",
   "version": "-std=c++14"
  }
 },
 "nbformat": 4,
 "nbformat_minor": 2
}
