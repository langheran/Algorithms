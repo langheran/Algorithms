{
 "cells": [
  {
   "cell_type": "markdown",
   "metadata": {},
   "source": [
    "# C++ in One Hour a Day"
   ]
  },
  {
   "cell_type": "code",
   "execution_count": 1,
   "metadata": {},
   "outputs": [],
   "source": [
    "#include <iostream>\n",
    "using namespace std;\n",
    "int (*myMain)() = nullptr;"
   ]
  },
  {
   "cell_type": "markdown",
   "metadata": {},
   "source": [
    "### Chapter 1"
   ]
  },
  {
   "cell_type": "code",
   "execution_count": 6,
   "metadata": {},
   "outputs": [
    {
     "name": "stdout",
     "output_type": "stream",
     "text": [
      "Hello World!\n"
     ]
    }
   ],
   "source": [
    "myMain = []()->int {\n",
    "    std::cout << \"Hello World!\" << std::endl;\n",
    "    return 0;        \n",
    "};\n",
    "myMain();"
   ]
  },
  {
   "cell_type": "code",
   "execution_count": 8,
   "metadata": {},
   "outputs": [
    {
     "name": "stdout",
     "output_type": "stream",
     "text": [
      "\n",
      "2 48 14\n"
     ]
    }
   ],
   "source": [
    "myMain = []()->int {\n",
    " int x = 8;\n",
    " int y = 6;\n",
    " std::cout << std::endl;\n",
    " std::cout << x - y << \" \" << x * y << \" \" << x + y;\n",
    " std::cout << std::endl;\n",
    " return 0;\n",
    "};\n",
    "myMain();"
   ]
  },
  {
   "cell_type": "code",
   "execution_count": 9,
   "metadata": {},
   "outputs": [
    {
     "name": "stdout",
     "output_type": "stream",
     "text": [
      "Hello Buggy World \n"
     ]
    }
   ],
   "source": [
    "myMain = []()->int {\n",
    " std::cout << \"Hello Buggy World \\n\";\n",
    " return 0;\n",
    "};\n",
    "myMain();"
   ]
  },
  {
   "cell_type": "markdown",
   "metadata": {},
   "source": [
    "### Chapter 2"
   ]
  }
 ],
 "metadata": {
  "kernelspec": {
   "display_name": "C++14",
   "language": "C++14",
   "name": "xeus-cling-cpp14"
  },
  "language_info": {
   "codemirror_mode": "text/x-c++src",
   "file_extension": ".cpp",
   "mimetype": "text/x-c++src",
   "name": "c++",
   "version": "-std=c++14"
  }
 },
 "nbformat": 4,
 "nbformat_minor": 2
}
