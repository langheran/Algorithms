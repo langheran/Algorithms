{
 "cells": [
  {
   "cell_type": "markdown",
   "metadata": {},
   "source": [
    "# Class Templates"
   ]
  },
  {
   "cell_type": "code",
   "execution_count": 1,
   "metadata": {},
   "outputs": [],
   "source": [
    "#include <cmath>\n",
    "#include <cstdio>\n",
    "#include <vector>\n",
    "#include <iostream>\n",
    "#include <algorithm>\n",
    "#include <cassert>\n",
    "using namespace std;"
   ]
  },
  {
   "cell_type": "code",
   "execution_count": 2,
   "metadata": {},
   "outputs": [],
   "source": [
    "\n",
    "/*Write the class AddElements here*/\n",
    "template <class T>\n",
    "class AddElements {\n",
    "T element;\n",
    "public:\n",
    "AddElements (T arg) {element=arg;}\n",
    "T add (T arg) {return arg+element;}\n",
    "};\n",
    "\n",
    "// class template specialization:\n",
    "template <>\n",
    "class AddElements <string> {\n",
    "string element;\n",
    "public:\n",
    "AddElements (string arg) {\n",
    "    element=arg; \n",
    "}\n",
    "string concatenate(string arg){\n",
    "    return element+arg;\n",
    "    }\n",
    "};"
   ]
  },
  {
   "cell_type": "code",
   "execution_count": 3,
   "metadata": {},
   "outputs": [],
   "source": [
    "int aa = ( ios_base::sync_with_stdio(false), 195 );\n",
    "int bb = ( cin.tie(NULL), 195 );"
   ]
  },
  {
   "cell_type": "code",
   "execution_count": null,
   "metadata": {},
   "outputs": [],
   "source": [
    "int n,i;"
   ]
  },
  {
   "cell_type": "code",
   "execution_count": null,
   "metadata": {},
   "outputs": [],
   "source": [
    "  cin >> n;\n",
    "  for(i=0;i<n;i++) {\n",
    "    string type;\n",
    "    cin >> type;\n",
    "    if(type==\"float\") {\n",
    "        double element1,element2;\n",
    "        cin >> element1 >> element2;\n",
    "        AddElements<double> myfloat (element1);\n",
    "        cout << myfloat.add(element2) << endl;\n",
    "    }\n",
    "    else if(type == \"int\") {\n",
    "        int element1, element2;\n",
    "        cin >> element1 >> element2;\n",
    "        AddElements<int> myint (element1);\n",
    "        cout << myint.add(element2) << endl;\n",
    "    }\n",
    "    else if(type == \"string\") {\n",
    "        string element1, element2;\n",
    "        cin >> element1 >> element2;\n",
    "        AddElements<string> mystring (element1);\n",
    "        cout << mystring.concatenate(element2) << endl;\n",
    "    }\n",
    "  }"
   ]
  }
 ],
 "metadata": {
  "kernelspec": {
   "display_name": "C++14",
   "language": "C++14",
   "name": "xeus-cling-cpp14"
  },
  "language_info": {
   "codemirror_mode": "text/x-c++src",
   "file_extension": ".cpp",
   "mimetype": "text/x-c++src",
   "name": "c++",
   "version": "-std=c++14"
  }
 },
 "nbformat": 4,
 "nbformat_minor": 2
}
