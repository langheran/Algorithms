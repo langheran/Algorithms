{
 "cells": [
  {
   "cell_type": "markdown",
   "metadata": {},
   "source": [
    "# C++ in One Hour a Day"
   ]
  },
  {
   "cell_type": "code",
   "execution_count": 1,
   "metadata": {},
   "outputs": [],
   "source": [
    "#include <iostream>\n",
    "using namespace std;\n",
    "int (*myMain)() = nullptr;"
   ]
  },
  {
   "cell_type": "markdown",
   "metadata": {},
   "source": [
    "### Chapter 1"
   ]
  },
  {
   "cell_type": "code",
   "execution_count": null,
   "metadata": {},
   "outputs": [],
   "source": [
    "#include <iostream>\n",
    "#include <memory>\n",
    "using namespace std;\n",
    "int (*myMain)() = nullptr;"
   ]
  },
  {
   "cell_type": "code",
   "execution_count": 6,
   "metadata": {},
   "outputs": [
    {
     "name": "stdout",
     "output_type": "stream",
     "text": [
      "Hello World!\n"
     ]
    }
   ],
   "source": [
    "myMain = []()->int {\n",
    "    std::cout << \"Hello World!\" << std::endl;\n",
    "    return 0;        \n",
    "};\n",
    "myMain();"
   ]
  },
  {
   "cell_type": "code",
   "execution_count": 8,
   "metadata": {},
   "outputs": [
    {
     "name": "stdout",
     "output_type": "stream",
     "text": [
      "\n",
      "2 48 14\n"
     ]
    }
   ],
   "source": [
    "myMain = []()->int {\n",
    " int x = 8;\n",
    " int y = 6;\n",
    " std::cout << std::endl;\n",
    " std::cout << x - y << \" \" << x * y << \" \" << x + y;\n",
    " std::cout << std::endl;\n",
    " return 0;\n",
    "};\n",
    "myMain();"
   ]
  },
  {
   "cell_type": "code",
   "execution_count": 9,
   "metadata": {},
   "outputs": [
    {
     "name": "stdout",
     "output_type": "stream",
     "text": [
      "Hello Buggy World \n"
     ]
    }
   ],
   "source": [
    "myMain = []()->int {\n",
    " std::cout << \"Hello Buggy World \\n\";\n",
    " return 0;\n",
    "};\n",
    "myMain();"
   ]
  },
  {
   "cell_type": "markdown",
   "metadata": {},
   "source": [
    "### Chapter 12"
   ]
  },
  {
   "cell_type": "code",
   "execution_count": 1,
   "metadata": {},
   "outputs": [],
   "source": [
    "#include <iostream>\n",
    "#include <memory>\n",
    "using namespace std;\n",
    "int (*myMain)() = nullptr;"
   ]
  },
  {
   "cell_type": "code",
   "execution_count": 2,
   "metadata": {},
   "outputs": [],
   "source": [
    "class Date\n",
    "{\n",
    " private:\n",
    " int day, month, year;\n",
    " string dateInString;\n",
    " public:\n",
    " Date(int inMonth, int inDay, int inYear)\n",
    " : month(inMonth), day(inDay), year(inYear) {};\n",
    "\n",
    " void DisplayDate()\n",
    " {\n",
    "     cout << month << \" / \" << day << \" / \" << year << endl;\n",
    " }\n",
    "};"
   ]
  },
  {
   "cell_type": "code",
   "execution_count": 11,
   "metadata": {},
   "outputs": [
    {
     "name": "stdout",
     "output_type": "stream",
     "text": [
      "Integer value is: 42\n",
      "The new instance of date contains: 12 / 25 / 2016\n"
     ]
    }
   ],
   "source": [
    "myMain = []()->int {\n",
    " unique_ptr<int> smartIntPtr(new int);\n",
    " *smartIntPtr = 42;\n",
    "\n",
    " // Use smart pointer type like an int*\n",
    " cout << \"Integer value is: \" << *smartIntPtr << endl;\n",
    " unique_ptr<Date> smartHoliday (new Date(12, 25, 2016));\n",
    " cout << \"The new instance of date contains: \";\n",
    "\n",
    " // use smartHoliday just as you would a Date*\n",
    " smartHoliday->DisplayDate();\n",
    " return 0;\n",
    "};\n",
    "myMain();"
   ]
  }
 ],
 "metadata": {
  "kernelspec": {
   "display_name": "C++14",
   "language": "C++14",
   "name": "xeus-cling-cpp14"
  },
  "language_info": {
   "codemirror_mode": "text/x-c++src",
   "file_extension": ".cpp",
   "mimetype": "text/x-c++src",
   "name": "c++",
   "version": "-std=c++14"
  }
 },
 "nbformat": 4,
 "nbformat_minor": 2
}
